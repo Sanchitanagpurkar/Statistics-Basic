{
  "nbformat": 4,
  "nbformat_minor": 0,
  "metadata": {
    "colab": {
      "provenance": []
    },
    "kernelspec": {
      "name": "python3",
      "display_name": "Python 3"
    },
    "language_info": {
      "name": "python"
    }
  },
  "cells": [
    {
      "cell_type": "markdown",
      "source": [
        "# Statistics Basics\n",
        "\n",
        "1. What is statistics, and why is it important?\n",
        "  - Statistics is the science of collecting, analyzing, interpreting, presenting, and organizing data. It's essential for making informed decisions in fields like business, healthcare, government, and research.\n",
        "\n",
        "2. What are the two main types of statistics?\n",
        "  - Descriptive Statistics: Summarize data (e.g., mean, median, mode).\n",
        "\n",
        "  - Inferential Statistics: Make predictions or inferences about a population based on a sample.\n",
        "\n",
        "3. What are descriptive statistics?\n",
        "  - Involves summarizing and organizing data using charts, graphs, and summary measures (e.g., central tendency, dispersion).\n",
        "\n",
        "4. What is inferential statistics?\n",
        "  - Uses sample data to make generalizations about a population, including hypothesis testing, confidence intervals, and regression analysis.\n",
        "\n",
        "5. What is sampling in statistics?\n",
        "  - Sampling in statistics is the process of selecting a subset of individuals (called a sample) from a larger group (called the population) in order to analyze and draw conclusions about the entire population.\n",
        "\n",
        "\n",
        "6. What are the different types of sampling methods?\n",
        "  - Random sampling\n",
        "\n",
        "  - Stratified sampling\n",
        "\n",
        "  - Systematic sampling\n",
        "\n",
        "  - Cluster sampling\n",
        "\n",
        "  - Convenience sampling\n",
        "\n",
        "7. What is the difference between random and non-random sampling?\n",
        "  - Random: Every individual has equal chance (reduces bias).\n",
        "\n",
        "  - Non-Random: Selection based on accessibility or judgment (prone to bias).\n",
        "\n",
        "8. Define and give examples of qualitative and quantitative data?\n",
        "  - Qualitative (Categorical): Colors, names, labels (e.g., Gender, City).\n",
        "\n",
        "  - Quantitative (Numerical): Measurable quantities (e.g., Age, Salary).\n",
        "\n",
        "9. What are the different types of data in statistics?\n",
        "  - Nominal\n",
        "\n",
        "  - Ordinal\n",
        "\n",
        "  - Interval\n",
        "\n",
        "  - Ratio\n",
        "\n",
        "10. Explain nominal, ordinal, interval, and ratio levels of measurement?\n",
        "  - Nominal: Categories without order (e.g., gender).\n",
        "\n",
        "  - Ordinal: Ordered categories (e.g., ranks).\n",
        "\n",
        "  - Interval: Ordered, equal spacing, no true zero (e.g., temperature).\n",
        "\n",
        "  - Ratio: Like interval, but has a true zero (e.g., weight, height).\n",
        "\n",
        "11. What is the measure of central tendency?\n",
        "  - The measure of central tendency is a statistical concept that identifies the center point or typical value of a dataset. It represents a single value around which the data values tend to cluster.\n",
        "\n",
        "12. Define mean, median, and mode?\n",
        "  - Mean - The mean is the sum of all values in a dataset divided by the number of values.\n",
        "\n",
        "      🔹 Formula:\n",
        "Mean\n",
        "=\n",
        "∑\n",
        "𝑥\n",
        "𝑖\n",
        "𝑛\n",
        "Mean=\n",
        "n\n",
        "∑x\n",
        "i\n",
        "​\n",
        "  - Median - The median is the middle value in a dataset when the values are arranged in ascending or descending order.\n",
        "  - Mode - The mode is the value that occurs most frequently in a dataset.\n",
        "            \n",
        "\n",
        "13. What is the significance of the measure of central tendency?\n",
        "  - The measure of central tendency is crucial in statistics because it provides a single, representative value that describes the center point of a dataset. This value helps summarize, analyze, and interpret data effectively.\n",
        "\n",
        "14. What is variance, and how is it calculated?\n",
        "  - Variance is a measure of how much the values in a dataset deviate from the mean (i.e., how spread out the data points are). It quantifies the degree of dispersion or spread in a dataset.\n",
        "\n",
        "15. What is skewness in a dataset?\n",
        "  - Skewness is a statistical measure that describes the asymmetry or lack of symmetry in the distribution of data values around the mean.\n",
        "\n",
        "16. What is standard deviation, and why is it important?\n",
        "  - Standard deviation is a statistical measure that shows how much the values in a dataset deviate from the mean. It indicates the spread or dispersion of the data.\n",
        "  A low standard deviation means the data points are close to the mean (less variability), while a high standard deviation indicates that the data is more spread out.\n",
        "\n",
        "      Importance:\n",
        "      - Measures data consistency - useful for comparing datasets.\n",
        "\n",
        "      - Identifies variability - helps detect outliers and unusual data.\n",
        "\n",
        "      - Supports statistical analysis - essential in z-scores, confidence intervals, and hypothesis testing.\n",
        "\n",
        "      - Interprets distribution - key for understanding how data is distributed around the mean.\n",
        "\n",
        "17. Define and explain the term range in statistics?\n",
        "  - Range is the simplest measure of dispersion in statistics. It indicates the spread of values in a dataset by measuring the difference between the highest and lowest values.\n",
        "  \n",
        "      Formula\n",
        "    \n",
        "      Range=Maximum Value-Minimum Value\n",
        "\n",
        "      Explanation:\n",
        "      - The range tells how spread out the data is.\n",
        "\n",
        "      - It is easy to compute but affected by outliers.\n",
        "\n",
        "      - Best suited for quick, rough comparisons.\n",
        "\n",
        "\n",
        "\n",
        "18. What is the difference between variance and standard deviation?\n",
        "  - Variance measures the average squared deviation from the mean.\n",
        "\n",
        "      Standard deviation is the square root of variance and represents the spread of data in the same unit as the original data.\n",
        "\n",
        "      -  Example: If variance = 9, standard deviation = √9 = 3\n",
        "      -  Variance gives more weight to outliers; standard deviation is easier to interpret.\n",
        "\n",
        "19. What does it mean if a dataset is positively or negatively skewed?\n",
        "  - A positively skewed dataset has a long tail on the right. The mean is   greater than the median.\n",
        "\n",
        "        A negatively skewed dataset has a long tail on the left. The mean is less than the median.\n",
        "\n",
        "        - Positive Skew → Few high outliers\n",
        "        - Negative Skew → Few low outliers\n",
        "\n",
        "\n",
        "\n",
        "20. Define and explain kurtosis?\n",
        "  - Kurtosis is a statistical measure that describes the \"tailedness\" or peakedness of a distribution.\n",
        "\n",
        "      - High kurtosis: Heavy tails → more outliers (Leptokurtic)\n",
        "\n",
        "      - Low kurtosis: Light tails → fewer outliers (Platykurtic)\n",
        "\n",
        "      - Normal kurtosis: Moderate tails (Mesokurtic)\n",
        "\n",
        "21. What is the purpose of covariance?\n",
        "  - Covariance measures how two variables change together.\n",
        "\n",
        "  - If covariance is positive: as one variable increases, the other tends to increase.\n",
        "\n",
        "  - If negative: one increases while the other decreases.\n",
        "\n",
        "22. What does correlation measure in statistics?\n",
        "  - Correlation measures the strength and direction of the linear relationship between two variables.\n",
        "\n",
        "      Value ranges from -1 to +1:\n",
        "\n",
        "      - +1 → perfect positive correlation\n",
        "\n",
        "      - -1 → perfect negative correlation\n",
        "\n",
        "      - 0 → no linear relationship\n",
        "\n",
        "23. What is the difference between covariance and correlation?\n",
        "  - Covariance and correlation are both statistical tools used to measure the relationship between two variables, but they differ in key ways:\n",
        "\n",
        "  - Covariance measures the joint variability between two variables. It tells us whether the variables increase or decrease together. However, it does not indicate the strength of the relationship — only the direction (positive or negative).\n",
        "\n",
        "  - Correlation, on the other hand, measures the strength and direction of the linear relationship between two variables. It is a standardized version of covariance, meaning it has no units and always lies within the range of –1 to +1.\n",
        "\n",
        "  - Covariance has no fixed range and its value depends on the scale and units of the data, which makes it hard to interpret on its own. In contrast, correlation is dimensionless (unit-free), making it easier to compare across different datasets.\n",
        "\n",
        "24. What are some real-world applications of statistics?\n",
        "  - Healthcare: Analyzing patient outcomes, drug effectiveness\n",
        "\n",
        "  - Business: Market research, sales forecasting, quality control\n",
        "\n",
        "  - Education: Student performance analysis, dropout prediction\n",
        "\n",
        "  - Government: Census, policy planning, budgeting\n",
        "\n",
        "  - Sports: Player performance analysis, game strategies\n",
        "\n",
        "  - Data Science & AI: Pattern recognition, predictive modeling"
      ],
      "metadata": {
        "id": "GZ02mBRZCenH"
      }
    },
    {
      "cell_type": "code",
      "execution_count": 1,
      "metadata": {
        "colab": {
          "base_uri": "https://localhost:8080/"
        },
        "id": "3gTq3fAaBjmA",
        "outputId": "ad15508b-2372-4d8d-adcc-7e53ac715661"
      },
      "outputs": [
        {
          "output_type": "stream",
          "name": "stdout",
          "text": [
            "Mean: 7.5\n",
            "Median: 7.5\n",
            "Mode: 8\n"
          ]
        }
      ],
      "source": [
        "# Practical Questions\n",
        "\n",
        "# 1.  How do you calculate the mean, median, and mode of a dataset?\n",
        "\n",
        "import numpy as np\n",
        "import statistics\n",
        "\n",
        "data = [5, 8, 7, 9, 6, 7, 8, 10]\n",
        "print(\"Mean:\", np.mean(data))\n",
        "print(\"Median:\", np.median(data))\n",
        "print(\"Mode:\", statistics.mode(data))\n"
      ]
    },
    {
      "cell_type": "code",
      "source": [
        "# 2.  Write a Python program to compute the variance and standard deviation of a dataset.\n",
        "\n",
        "print(\"Variance:\", np.var(data))\n",
        "print(\"Standard Deviation:\", np.std(data))\n"
      ],
      "metadata": {
        "colab": {
          "base_uri": "https://localhost:8080/"
        },
        "id": "rQwUVk6PU1If",
        "outputId": "7787849f-1133-408b-981d-08bae0168b0b"
      },
      "execution_count": 2,
      "outputs": [
        {
          "output_type": "stream",
          "name": "stdout",
          "text": [
            "Variance: 2.25\n",
            "Standard Deviation: 1.5\n"
          ]
        }
      ]
    },
    {
      "cell_type": "code",
      "source": [
        " # 3. Create a dataset and classify it into nominal, ordinal, interval, and ratio types.\n",
        "\n",
        "import pandas as pd\n",
        "\n",
        "df = pd.DataFrame({\n",
        "    'Name': ['Alice', 'Bob', 'Charlie', 'Diana'],         # Nominal\n",
        "    'Education': ['High School', 'Bachelor', 'PhD', 'Master'],  # Ordinal\n",
        "    'Temperature': [98.6, 99.1, 97.8, 100.2],              # Interval\n",
        "    'Height': [160, 175, 168, 180]                         # Ratio\n",
        "})\n",
        "\n",
        "print(df)\n",
        "\n"
      ],
      "metadata": {
        "colab": {
          "base_uri": "https://localhost:8080/"
        },
        "id": "IKeJKSQuU9Ie",
        "outputId": "3f45f915-8ae7-43de-f91e-fd161d22ae74"
      },
      "execution_count": 28,
      "outputs": [
        {
          "output_type": "stream",
          "name": "stdout",
          "text": [
            "      Name    Education  Temperature  Height\n",
            "0    Alice  High School         98.6     160\n",
            "1      Bob     Bachelor         99.1     175\n",
            "2  Charlie          PhD         97.8     168\n",
            "3    Diana       Master        100.2     180\n"
          ]
        }
      ]
    },
    {
      "cell_type": "code",
      "source": [
        "# 4. Implement sampling techniques like random sampling and stratified sampling.\n",
        "\n",
        "# Random Sampling\n",
        "\n",
        "import pandas as pd\n",
        "import numpy as np\n",
        "\n",
        "# 1. Sample dataset\n",
        "data = pd.DataFrame({\n",
        "    'ID': range(1, 21),\n",
        "    'Marks': np.random.randint(50, 100, size=20)\n",
        "})\n",
        "\n",
        "# Random sample of 5 rows\n",
        "random_sample = data.sample(n=5, random_state=42)\n",
        "\n",
        "print(\"=== Random Sampling ===\")\n",
        "print(random_sample)\n",
        "\n",
        "# 2. Stratified Sampling\n",
        "\n",
        "from sklearn.model_selection import train_test_split\n",
        "\n",
        "# Sample dataset with a categorical feature (stratum)\n",
        "data = pd.DataFrame({\n",
        "    'ID': range(1, 21),\n",
        "    'Marks': np.random.randint(50, 100, size=20),\n",
        "    'Grade': ['A', 'B', 'C', 'A', 'B', 'C', 'A', 'B', 'C', 'A',\n",
        "              'B', 'C', 'A', 'B', 'C', 'A', 'B', 'C', 'A', 'B']\n",
        "})\n",
        "\n",
        "# Stratified sample based on 'Grade'\n",
        "stratified_sample, _ = train_test_split(\n",
        "    data,\n",
        "    test_size=0.75,\n",
        "    stratify=data['Grade'],\n",
        "    random_state=42\n",
        ")\n",
        "\n",
        "print(\"=== Stratified Sampling by 'Grade' ===\")\n",
        "print(stratified_sample)\n",
        "\n",
        "\n"
      ],
      "metadata": {
        "colab": {
          "base_uri": "https://localhost:8080/"
        },
        "id": "J1XyV_3YU9Cm",
        "outputId": "3a713243-0628-4b3c-903f-5e84a7e356a1"
      },
      "execution_count": 34,
      "outputs": [
        {
          "output_type": "stream",
          "name": "stdout",
          "text": [
            "=== Random Sampling ===\n",
            "    ID  Marks\n",
            "0    1     52\n",
            "17  18     57\n",
            "15  16     87\n",
            "1    2     52\n",
            "8    9     69\n",
            "=== Stratified Sampling by 'Grade' ===\n",
            "    ID  Marks Grade\n",
            "3    4     61     A\n",
            "16  17     84     B\n",
            "1    2     74     B\n",
            "15  16     97     A\n",
            "2    3     79     C\n"
          ]
        }
      ]
    },
    {
      "cell_type": "code",
      "source": [
        "# 5. Write a Python function to calculate the range of a dataset.\n",
        "\n",
        "def calc_range(data):\n",
        "    return max(data) - min(data)\n",
        "\n",
        "print(\"Range:\", calc_range(data))\n"
      ],
      "metadata": {
        "colab": {
          "base_uri": "https://localhost:8080/"
        },
        "id": "gPEF7L2_U8_G",
        "outputId": "78357704-d852-452c-984b-cb3de9bca746"
      },
      "execution_count": 7,
      "outputs": [
        {
          "output_type": "stream",
          "name": "stdout",
          "text": [
            "Range: 5\n"
          ]
        }
      ]
    },
    {
      "cell_type": "code",
      "source": [
        "# 6. Create a dataset and plot its histogram to visualize skewness.\n",
        "\n",
        "import matplotlib.pyplot as plt\n",
        "plt.hist(data, bins=5)\n",
        "plt.title(\"Histogram\")\n",
        "plt.show()\n"
      ],
      "metadata": {
        "colab": {
          "base_uri": "https://localhost:8080/",
          "height": 452
        },
        "id": "y8fd_qIxU88V",
        "outputId": "17dc910a-8479-4579-d45e-5c670839660f"
      },
      "execution_count": 8,
      "outputs": [
        {
          "output_type": "display_data",
          "data": {
            "text/plain": [
              "<Figure size 640x480 with 1 Axes>"
            ],
            "image/png": "[encoded data removed]"
          },
          "metadata": {}
        }
      ]
    },
    {
      "cell_type": "code",
      "source": [
        "# 7. Calculate skewness and kurtosis of a dataset using Python libraries.\n",
        "\n",
        "from scipy.stats import skew, kurtosis\n",
        "print(\"Skewness:\", skew(data))\n",
        "print(\"Kurtosis:\", kurtosis(data))\n"
      ],
      "metadata": {
        "colab": {
          "base_uri": "https://localhost:8080/"
        },
        "id": "Cyx7JzGtU85o",
        "outputId": "cf12717e-2a2b-46e4-d2dd-3448b142d78c"
      },
      "execution_count": 9,
      "outputs": [
        {
          "output_type": "stream",
          "name": "stdout",
          "text": [
            "Skewness: 0.0\n",
            "Kurtosis: -0.8148148148148149\n"
          ]
        }
      ]
    },
    {
      "cell_type": "code",
      "source": [
        "# 8. Generate a dataset and demonstrate positive and negative skewness.\n",
        "\n",
        "# Positive skew\n",
        "positive_skew = np.random.exponential(scale=2, size=1000)\n",
        "\n",
        "# Negative skew (using inverse)\n",
        "negative_skew = -np.random.exponential(scale=2, size=1000)\n",
        "\n",
        "# Plot both\n",
        "plt.figure(figsize=(12, 5))\n",
        "\n",
        "plt.subplot(1, 2, 1)\n",
        "sns.histplot(positive_skew, kde=True, color='green')\n",
        "plt.title(\"Positively Skewed\")\n",
        "\n",
        "plt.subplot(1, 2, 2)\n",
        "sns.histplot(negative_skew, kde=True, color='red')\n",
        "plt.title(\"Negatively Skewed\")\n",
        "\n",
        "plt.tight_layout()\n",
        "plt.show()\n"
      ],
      "metadata": {
        "colab": {
          "base_uri": "https://localhost:8080/",
          "height": 507
        },
        "id": "PSSgsjVeU83A",
        "outputId": "e684ed92-9b80-485c-cb57-f7911053beca"
      },
      "execution_count": 31,
      "outputs": [
        {
          "output_type": "display_data",
          "data": {
            "text/plain": [
              "<Figure size 1200x500 with 2 Axes>"
            ],
            "image/png": "[encoded data removed]"
          },
          "metadata": {}
        }
      ]
    },
    {
      "cell_type": "code",
      "source": [
        "# 9. Write a Python script to calculate covariance between two datasets.\n",
        "\n",
        "x = [1, 2, 3, 4, 5]\n",
        "y = [2, 4, 6, 8, 10]\n",
        "cov_matrix = np.cov(x, y)\n",
        "print(\"Covariance:\", cov_matrix[0,1])\n"
      ],
      "metadata": {
        "colab": {
          "base_uri": "https://localhost:8080/"
        },
        "id": "5n5RRBmDU80a",
        "outputId": "161002ab-6027-4a19-a934-f3a421f2a83b"
      },
      "execution_count": 12,
      "outputs": [
        {
          "output_type": "stream",
          "name": "stdout",
          "text": [
            "Covariance: 5.0\n"
          ]
        }
      ]
    },
    {
      "cell_type": "code",
      "source": [
        "# 10. Write a Python script to calculate the correlation coefficient between two datasets.\n",
        "\n",
        "print(\"Correlation:\", np.corrcoef(x, y)[0,1])\n"
      ],
      "metadata": {
        "colab": {
          "base_uri": "https://localhost:8080/"
        },
        "id": "cHu_v2Y_U8xo",
        "outputId": "e0c57c62-5797-4e5d-be0d-d9bb4f01f1f1"
      },
      "execution_count": 13,
      "outputs": [
        {
          "output_type": "stream",
          "name": "stdout",
          "text": [
            "Correlation: 0.9999999999999999\n"
          ]
        }
      ]
    },
    {
      "cell_type": "code",
      "source": [
        "# 11. Create a scatter plot to visualize the relationship between two variables.\n",
        "\n",
        "plt.scatter(x, y)\n",
        "plt.title(\"Scatter Plot\")\n",
        "plt.xlabel(\"X\")\n",
        "plt.ylabel(\"Y\")\n",
        "plt.show()\n"
      ],
      "metadata": {
        "colab": {
          "base_uri": "https://localhost:8080/",
          "height": 472
        },
        "id": "ANMgdz6WU8vb",
        "outputId": "34302f76-dff4-4eb8-e962-84a9597ef65d"
      },
      "execution_count": 14,
      "outputs": [
        {
          "output_type": "display_data",
          "data": {
            "text/plain": [
              "<Figure size 640x480 with 1 Axes>"
            ],
            "image/png": "[encoded data removed]"
          },
          "metadata": {}
        }
      ]
    },
    {
      "cell_type": "code",
      "source": [
        "# 12. Implement and compare simple random sampling and systematic sampling.\n",
        "\n",
        "import pandas as pd\n",
        "import numpy as np\n",
        "\n",
        "data = pd.DataFrame({'value': np.arange(1, 101)})\n",
        "\n",
        "# Simple Random Sampling\n",
        "simple_random = data.sample(n=10)\n",
        "\n",
        "# Systematic Sampling\n",
        "k = len(data) // 10\n",
        "systematic = data.iloc[::k]\n",
        "\n",
        "print(\"Simple Random:\\n\", simple_random)\n",
        "print(\"Systematic:\\n\", systematic)\n"
      ],
      "metadata": {
        "colab": {
          "base_uri": "https://localhost:8080/"
        },
        "id": "Gy5M_XQtU8st",
        "outputId": "4032dd43-0bd5-4af8-f010-f9912259a107"
      },
      "execution_count": 16,
      "outputs": [
        {
          "output_type": "stream",
          "name": "stdout",
          "text": [
            "Simple Random:\n",
            "     value\n",
            "79     80\n",
            "4       5\n",
            "15     16\n",
            "45     46\n",
            "44     45\n",
            "90     91\n",
            "28     29\n",
            "26     27\n",
            "1       2\n",
            "97     98\n",
            "Systematic:\n",
            "     value\n",
            "0       1\n",
            "10     11\n",
            "20     21\n",
            "30     31\n",
            "40     41\n",
            "50     51\n",
            "60     61\n",
            "70     71\n",
            "80     81\n",
            "90     91\n"
          ]
        }
      ]
    },
    {
      "cell_type": "code",
      "source": [
        "# 13. Calculate the mean, median, and mode of grouped data.\n",
        "\n",
        "import pandas as pd\n",
        "from scipy import stats\n",
        "\n",
        "data = [12, 15, 12, 14, 19, 21, 20, 21, 20, 17]\n",
        "df = pd.DataFrame(data, columns=['value'])\n",
        "\n",
        "print(\"Mean:\", df['value'].mean())\n",
        "print(\"Median:\", df['value'].median())\n",
        "print(\"Mode:\", df['value'].mode()[0])\n"
      ],
      "metadata": {
        "colab": {
          "base_uri": "https://localhost:8080/"
        },
        "id": "cR-anVZaU8qG",
        "outputId": "cdbec7fe-4a7a-4488-cd63-1fc31669d192"
      },
      "execution_count": 17,
      "outputs": [
        {
          "output_type": "stream",
          "name": "stdout",
          "text": [
            "Mean: 17.1\n",
            "Median: 18.0\n",
            "Mode: 12\n"
          ]
        }
      ]
    },
    {
      "cell_type": "code",
      "source": [
        "# 14. Simulate data using Python and calculate its central tendency and dispersion.\n",
        "\n",
        "simulated = np.random.normal(50, 10, 1000)\n",
        "print(\"Mean:\", np.mean(simulated), \"SD:\", np.std(simulated))\n"
      ],
      "metadata": {
        "colab": {
          "base_uri": "https://localhost:8080/"
        },
        "id": "oC-CEnD-U8no",
        "outputId": "97aa827a-1873-4e94-dc0e-21c05c35d6fa"
      },
      "execution_count": 15,
      "outputs": [
        {
          "output_type": "stream",
          "name": "stdout",
          "text": [
            "Mean: 50.33304447625641 SD: 9.723200461240273\n"
          ]
        }
      ]
    },
    {
      "cell_type": "code",
      "source": [
        "# 15. Use NumPy or pandas to summarize a dataset’s descriptive statistics.\n",
        "\n",
        "import pandas as pd\n",
        "data = pd.DataFrame({'Scores': np.random.randint(30, 100, 50)})\n",
        "print(data.describe())\n",
        "\n"
      ],
      "metadata": {
        "colab": {
          "base_uri": "https://localhost:8080/"
        },
        "id": "xevEXD1bU8lD",
        "outputId": "b018313f-fd6a-4501-a09a-90ed92f2a076"
      },
      "execution_count": 18,
      "outputs": [
        {
          "output_type": "stream",
          "name": "stdout",
          "text": [
            "          Scores\n",
            "count  50.000000\n",
            "mean   68.620000\n",
            "std    18.623981\n",
            "min    30.000000\n",
            "25%    54.500000\n",
            "50%    67.500000\n",
            "75%    83.750000\n",
            "max    96.000000\n"
          ]
        }
      ]
    },
    {
      "cell_type": "code",
      "source": [
        "# 16. Plot a boxplot to understand the spread and identify outliers.\n",
        "\n",
        "import seaborn as sns\n",
        "\n",
        "sns.boxplot(data['Scores'])\n",
        "plt.title(\"Boxplot of Scores\")\n",
        "plt.show()\n"
      ],
      "metadata": {
        "colab": {
          "base_uri": "https://localhost:8080/",
          "height": 433
        },
        "id": "Jbyg1xTsU8ih",
        "outputId": "290ab426-aef4-4895-d902-5b6dceb71101"
      },
      "execution_count": 19,
      "outputs": [
        {
          "output_type": "display_data",
          "data": {
            "text/plain": [
              "<Figure size 640x480 with 1 Axes>"
            ],
            "image/png": "[encoded data removed]"
          },
          "metadata": {}
        }
      ]
    },
    {
      "cell_type": "code",
      "source": [
        "# 17. Calculate the interquartile range (IQR) of a dataset.\n",
        "\n",
        "Q1 = data['Scores'].quantile(0.25)\n",
        "Q3 = data['Scores'].quantile(0.75)\n",
        "IQR = Q3 - Q1\n",
        "\n",
        "print(f\"IQR: {IQR}\")\n"
      ],
      "metadata": {
        "colab": {
          "base_uri": "https://localhost:8080/"
        },
        "id": "lcK6LouCU8ft",
        "outputId": "ff1d29bc-9475-4f55-e6d8-23571dae32a8"
      },
      "execution_count": 20,
      "outputs": [
        {
          "output_type": "stream",
          "name": "stdout",
          "text": [
            "IQR: 29.25\n"
          ]
        }
      ]
    },
    {
      "cell_type": "code",
      "source": [
        "# 18. Implement Z-score normalization and explain its significance.\n",
        "\n",
        "z_scores = (data['Scores'] - data['Scores'].mean()) / data['Scores'].std()\n",
        "print(z_scores.head())\n"
      ],
      "metadata": {
        "colab": {
          "base_uri": "https://localhost:8080/"
        },
        "id": "8fEP5TLYU8dN",
        "outputId": "38727c8d-9235-4da1-903d-13e50bbe5069"
      },
      "execution_count": 21,
      "outputs": [
        {
          "output_type": "stream",
          "name": "stdout",
          "text": [
            "0   -2.073671\n",
            "1    0.825817\n",
            "2    0.664734\n",
            "3   -1.858894\n",
            "4   -0.355456\n",
            "Name: Scores, dtype: float64\n"
          ]
        }
      ]
    },
    {
      "cell_type": "code",
      "source": [
        "# 19. Compare two datasets using their standard deviations.\n",
        "\n",
        "data1 = np.random.normal(50, 5, 100)\n",
        "data2 = np.random.normal(50, 15, 100)\n",
        "\n",
        "print(\"Std Dev of Data1:\", np.std(data1))\n",
        "print(\"Std Dev of Data2:\", np.std(data2))\n"
      ],
      "metadata": {
        "colab": {
          "base_uri": "https://localhost:8080/"
        },
        "id": "VjGTT6uzU8av",
        "outputId": "e6f8550c-5a5c-40fd-839b-35752ac4183b"
      },
      "execution_count": 22,
      "outputs": [
        {
          "output_type": "stream",
          "name": "stdout",
          "text": [
            "Std Dev of Data1: 4.6310532245136615\n",
            "Std Dev of Data2: 14.560578598870224\n"
          ]
        }
      ]
    },
    {
      "cell_type": "code",
      "source": [
        "# 20. Write a Python program to visualize covariance using a heatmap.\n",
        "\n",
        "import seaborn as sns\n",
        "\n",
        "df = pd.DataFrame({\n",
        "    'A': np.random.normal(0, 1, 100),\n",
        "    'B': np.random.normal(1, 2, 100),\n",
        "    'C': np.random.normal(2, 3, 100)\n",
        "})\n",
        "\n",
        "cov_matrix = df.cov()\n",
        "sns.heatmap(cov_matrix, annot=True, cmap='coolwarm')\n",
        "plt.title(\"Covariance Heatmap\")\n",
        "plt.show()\n"
      ],
      "metadata": {
        "colab": {
          "base_uri": "https://localhost:8080/",
          "height": 452
        },
        "id": "ni99z50nU8X5",
        "outputId": "b9ceb2a5-1c1a-4b68-eb5b-a57b732a65c5"
      },
      "execution_count": 23,
      "outputs": [
        {
          "output_type": "display_data",
          "data": {
            "text/plain": [
              "<Figure size 640x480 with 2 Axes>"
            ],
            "image/png": "[encoded data removed]"
          },
          "metadata": {}
        }
      ]
    },
    {
      "cell_type": "code",
      "source": [
        "# 21. Use seaborn to create a correlation matrix for a dataset.\n",
        "\n",
        "correlation = df.corr()\n",
        "sns.heatmap(correlation, annot=True, cmap='Blues')\n",
        "plt.title(\"Correlation Matrix\")\n",
        "plt.show()\n"
      ],
      "metadata": {
        "colab": {
          "base_uri": "https://localhost:8080/",
          "height": 452
        },
        "id": "8qaCfVYEU8VR",
        "outputId": "5f14aecf-8be9-449f-87f7-ad56ff64a98b"
      },
      "execution_count": 24,
      "outputs": [
        {
          "output_type": "display_data",
          "data": {
            "text/plain": [
              "<Figure size 640x480 with 2 Axes>"
            ],
            "image/png": "[encoded data removed]"
          },
          "metadata": {}
        }
      ]
    },
    {
      "cell_type": "code",
      "source": [
        "# 22. Generate a dataset and implement both variance and standard deviation computations.\n",
        "\n",
        "data = np.random.randn(100)\n",
        "\n",
        "print(\"Variance:\", np.var(data))\n",
        "print(\"Standard Deviation:\", np.std(data))\n"
      ],
      "metadata": {
        "colab": {
          "base_uri": "https://localhost:8080/"
        },
        "id": "K8mjMXQTU8Sj",
        "outputId": "767e75ba-d4f7-4bc3-ac26-d142d5b74145"
      },
      "execution_count": 25,
      "outputs": [
        {
          "output_type": "stream",
          "name": "stdout",
          "text": [
            "Variance: 0.854622637785973\n",
            "Standard Deviation: 0.924458023809612\n"
          ]
        }
      ]
    },
    {
      "cell_type": "code",
      "source": [
        "# 23. Visualize skewness and kurtosis using Python libraries like matplotlib or seaborn.\n",
        "\n",
        "import seaborn as sns\n",
        "from scipy.stats import skew, kurtosis\n",
        "\n",
        "sns.histplot(data, kde=True)\n",
        "plt.title(\"Distribution with KDE\")\n",
        "plt.show()\n",
        "\n",
        "print(\"Skewness:\", skew(data))\n",
        "print(\"Kurtosis:\", kurtosis(data))\n"
      ],
      "metadata": {
        "colab": {
          "base_uri": "https://localhost:8080/",
          "height": 488
        },
        "id": "LLP9BT7RWE_K",
        "outputId": "c2c67380-db1c-4a1d-9f11-1151bba76d3f"
      },
      "execution_count": 26,
      "outputs": [
        {
          "output_type": "display_data",
          "data": {
            "text/plain": [
              "<Figure size 640x480 with 1 Axes>"
            ],
            "image/png": "[encoded data removed]"
          },
          "metadata": {}
        },
        {
          "output_type": "stream",
          "name": "stdout",
          "text": [
            "Skewness: 0.1713588681386279\n",
            "Kurtosis: -0.3871177906065415\n"
          ]
        }
      ]
    },
    {
      "cell_type": "code",
      "source": [
        "# 24. Implement the Pearson and Spearman correlation coefficients for a dataset.\n",
        "\n",
        "x = np.random.rand(100)\n",
        "y = 2 * x + np.random.normal(0, 0.1, 100)\n",
        "\n",
        "pearson_corr = stats.pearsonr(x, y)[0]\n",
        "spearman_corr = stats.spearmanr(x, y)[0]\n",
        "\n",
        "print(\"Pearson Correlation:\", pearson_corr)\n",
        "print(\"Spearman Correlation:\", spearman_corr)\n"
      ],
      "metadata": {
        "colab": {
          "base_uri": "https://localhost:8080/"
        },
        "id": "Ucu10QnsWEw4",
        "outputId": "e6572bdd-901b-4812-eb1d-bc50f9173909"
      },
      "execution_count": 27,
      "outputs": [
        {
          "output_type": "stream",
          "name": "stdout",
          "text": [
            "Pearson Correlation: 0.9853166770558329\n",
            "Spearman Correlation: 0.984110411041104\n"
          ]
        }
      ]
    }
  ]
}